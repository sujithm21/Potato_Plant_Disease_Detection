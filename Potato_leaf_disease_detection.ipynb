{
  "nbformat": 4,
  "nbformat_minor": 0,
  "metadata": {
    "colab": {
      "provenance": [],
      "authorship_tag": "ABX9TyNk01bZvppk2aJEs/6O04AB",
      "include_colab_link": true
    },
    "kernelspec": {
      "name": "python3",
      "display_name": "Python 3"
    },
    "language_info": {
      "name": "python"
    }
  },
  "cells": [
    {
      "cell_type": "markdown",
      "metadata": {
        "id": "view-in-github",
        "colab_type": "text"
      },
      "source": [
        "<a href=\"https://colab.research.google.com/github/sujithm21/Potato_Plant_Disease_Detection/blob/main/Potato_leaf_disease_detection.ipynb\" target=\"_parent\"><img src=\"https://colab.research.google.com/assets/colab-badge.svg\" alt=\"Open In Colab\"/></a>"
      ]
    },
    {
      "cell_type": "code",
      "execution_count": 7,
      "metadata": {
        "id": "PcsfoSv9uLpP"
      },
      "outputs": [],
      "source": [
        "import tensorflow as tf\n",
        "from tensorflow.keras import models, layers\n",
        "import matplotlib.pyplot as plt\n",
        "from IPython.display import HTML"
      ]
    },
    {
      "cell_type": "code",
      "source": [
        "IMAGE_SIZE = 256\n",
        "CHANNELS = 3"
      ],
      "metadata": {
        "id": "SfDqt56lvmX7"
      },
      "execution_count": 8,
      "outputs": []
    },
    {
      "cell_type": "code",
      "source": [
        "from tensorflow.keras.preprocessing.image import ImageDataGenerator\n",
        "\n",
        "train_datagen = ImageDataGenerator(\n",
        "        rescale=1./255,\n",
        "        rotation_range=10,\n",
        "        horizontal_flip=True\n",
        ")\n",
        "train_generator = train_datagen.flow_from_directory(\n",
        "        '/content/sample_data/Dataset',\n",
        "        target_size=(IMAGE_SIZE,IMAGE_SIZE),\n",
        "        batch_size=32,\n",
        "        class_mode=\"sparse\",\n",
        "#         save_to_dir=\"C:\\\\Code\\\\potato-disease-classification\\\\training\\\\AugmentedImages\"\n",
        ")"
      ],
      "metadata": {
        "colab": {
          "base_uri": "https://localhost:8080/"
        },
        "id": "CfY6swVhvtJW",
        "outputId": "f4f779f0-9cf0-4c73-a8d3-757f6de1c1fb"
      },
      "execution_count": 9,
      "outputs": [
        {
          "output_type": "stream",
          "name": "stdout",
          "text": [
            "Found 2121 images belonging to 4 classes.\n"
          ]
        }
      ]
    },
    {
      "cell_type": "code",
      "source": [
        "train_generator.class_indices"
      ],
      "metadata": {
        "colab": {
          "base_uri": "https://localhost:8080/"
        },
        "id": "2ro0MfpEw-lQ",
        "outputId": "a6c176ac-f6fe-40c5-9e37-3398d4a70bcd"
      },
      "execution_count": 10,
      "outputs": [
        {
          "output_type": "execute_result",
          "data": {
            "text/plain": [
              "{'.ipynb_checkpoints': 0,\n",
              " 'Potato___Early_blight': 1,\n",
              " 'Potato___Late_blight': 2,\n",
              " 'Potato___healthy': 3}"
            ]
          },
          "metadata": {},
          "execution_count": 10
        }
      ]
    },
    {
      "cell_type": "code",
      "source": [
        "class_names = list(train_generator.class_indices.keys())\n",
        "class_names"
      ],
      "metadata": {
        "colab": {
          "base_uri": "https://localhost:8080/"
        },
        "id": "83FAsi1jxCaw",
        "outputId": "249544f4-4dce-4060-9c7b-3bbfcc75911b"
      },
      "execution_count": 11,
      "outputs": [
        {
          "output_type": "execute_result",
          "data": {
            "text/plain": [
              "['.ipynb_checkpoints',\n",
              " 'Potato___Early_blight',\n",
              " 'Potato___Late_blight',\n",
              " 'Potato___healthy']"
            ]
          },
          "metadata": {},
          "execution_count": 11
        }
      ]
    },
    {
      "cell_type": "code",
      "source": [
        "count=0\n",
        "for image_batch, label_batch in train_generator:\n",
        "#     print(label_batch)\n",
        "    print(image_batch[0])\n",
        "    break"
      ],
      "metadata": {
        "colab": {
          "base_uri": "https://localhost:8080/"
        },
        "id": "h9dBr-B5xJYN",
        "outputId": "2c49c28b-a19c-4477-8580-d729f2e36c4a"
      },
      "execution_count": 12,
      "outputs": [
        {
          "output_type": "stream",
          "name": "stdout",
          "text": [
            "[[[0.689221   0.6813779  0.7362799 ]\n",
            "  [0.6875072  0.6796641  0.73456603]\n",
            "  [0.68579346 0.6779503  0.7328523 ]\n",
            "  ...\n",
            "  [0.5123946  0.5045515  0.55553186]\n",
            "  [0.49536902 0.48752588 0.53850627]\n",
            "  [0.45391276 0.44606963 0.49705002]]\n",
            "\n",
            " [[0.70780504 0.6999619  0.7548639 ]\n",
            "  [0.70666254 0.6988194  0.75372136]\n",
            "  [0.70552003 0.6976769  0.75257885]\n",
            "  ...\n",
            "  [0.514394   0.50655085 0.55753124]\n",
            "  [0.4887995  0.48095638 0.5319368 ]\n",
            "  [0.45676908 0.44892594 0.49990633]]\n",
            "\n",
            " [[0.6967083  0.6888652  0.74376714]\n",
            "  [0.6987077  0.69086456 0.7457665 ]\n",
            "  [0.70070714 0.692864   0.74776596]\n",
            "  ...\n",
            "  [0.5163934  0.5085503  0.5595307 ]\n",
            "  [0.48223    0.47438687 0.52536726]\n",
            "  [0.4596254  0.45178226 0.5027627 ]]\n",
            "\n",
            " ...\n",
            "\n",
            " [[0.7508565  0.7508565  0.79791534]\n",
            "  [0.7889601  0.7889601  0.8360189 ]\n",
            "  [0.76510996 0.76510996 0.8121688 ]\n",
            "  ...\n",
            "  [0.56616163 0.5504753  0.6053773 ]\n",
            "  [0.56758976 0.5519035  0.60680544]\n",
            "  [0.56901795 0.5533317  0.60823363]]\n",
            "\n",
            " [[0.7582829  0.7582829  0.8053417 ]\n",
            "  [0.78667504 0.78667504 0.83373386]\n",
            "  [0.76396745 0.76396745 0.8110263 ]\n",
            "  ...\n",
            "  [0.5589142  0.5432279  0.59812987]\n",
            "  [0.55862856 0.5429423  0.59784424]\n",
            "  [0.5583429  0.5426566  0.59755856]]\n",
            "\n",
            " [[0.7657093  0.7657093  0.8127681 ]\n",
            "  [0.78439003 0.78439003 0.83144885]\n",
            "  [0.7628249  0.7628249  0.8098837 ]\n",
            "  ...\n",
            "  [0.5730302  0.5573439  0.61224586]\n",
            "  [0.57131636 0.5556301  0.61053205]\n",
            "  [0.56960255 0.5539163  0.60881823]]]\n"
          ]
        }
      ]
    },
    {
      "cell_type": "code",
      "source": [
        "validation_datagen = ImageDataGenerator(\n",
        "        rescale=1./255,\n",
        "        rotation_range=10,\n",
        "        horizontal_flip=True)\n",
        "validation_generator = validation_datagen.flow_from_directory(\n",
        "        '/content/sample_data/Dataset',\n",
        "        target_size=(IMAGE_SIZE,IMAGE_SIZE),\n",
        "        batch_size=32,\n",
        "        class_mode=\"sparse\"\n",
        ")"
      ],
      "metadata": {
        "colab": {
          "base_uri": "https://localhost:8080/"
        },
        "id": "QQ9CkTiBxle2",
        "outputId": "885424d0-0b55-40d9-b7f3-28c764ea98a0"
      },
      "execution_count": 15,
      "outputs": [
        {
          "output_type": "stream",
          "name": "stdout",
          "text": [
            "Found 2121 images belonging to 4 classes.\n"
          ]
        }
      ]
    },
    {
      "cell_type": "code",
      "source": [
        "test_datagen = ImageDataGenerator(\n",
        "        rescale=1./255,\n",
        "        rotation_range=10,\n",
        "        horizontal_flip=True)\n",
        "\n",
        "test_generator = test_datagen.flow_from_directory(\n",
        "        '/content/sample_data/Dataset',\n",
        "        target_size=(IMAGE_SIZE,IMAGE_SIZE),\n",
        "        batch_size=32,\n",
        "        class_mode=\"sparse\"\n",
        ")"
      ],
      "metadata": {
        "colab": {
          "base_uri": "https://localhost:8080/"
        },
        "id": "pEXtdHbAx6zC",
        "outputId": "a09d9d72-1f7e-405d-b38a-5178adff9936"
      },
      "execution_count": 16,
      "outputs": [
        {
          "output_type": "stream",
          "name": "stdout",
          "text": [
            "Found 2121 images belonging to 4 classes.\n"
          ]
        }
      ]
    },
    {
      "cell_type": "code",
      "source": [
        "for image_batch, label_batch in test_generator:\n",
        "    print(image_batch[0])\n",
        "    break"
      ],
      "metadata": {
        "colab": {
          "base_uri": "https://localhost:8080/"
        },
        "id": "r9FLtN4nyBUT",
        "outputId": "b9f8b540-7575-412b-a047-480643e84f2a"
      },
      "execution_count": 17,
      "outputs": [
        {
          "output_type": "stream",
          "name": "stdout",
          "text": [
            "[[[0.5803922  0.5529412  0.6156863 ]\n",
            "  [0.5803922  0.5529412  0.6156863 ]\n",
            "  [0.5803922  0.5529412  0.6156863 ]\n",
            "  ...\n",
            "  [0.45882356 0.427451   0.4784314 ]\n",
            "  [0.46791092 0.43653837 0.48751876]\n",
            "  [0.49141645 0.4600439  0.5110243 ]]\n",
            "\n",
            " [[0.56727535 0.5398243  0.60256946]\n",
            "  [0.568853   0.54140204 0.60414714]\n",
            "  [0.57043064 0.54297966 0.60572475]\n",
            "  ...\n",
            "  [0.45882356 0.427451   0.4784314 ]\n",
            "  [0.47011966 0.4387471  0.48972753]\n",
            "  [0.49267858 0.46130604 0.5122865 ]]\n",
            "\n",
            " [[0.55556303 0.52811205 0.59085715]\n",
            "  [0.55619407 0.5287431  0.5914882 ]\n",
            "  [0.55682516 0.5293742  0.5921193 ]\n",
            "  ...\n",
            "  [0.45882356 0.427451   0.4784314 ]\n",
            "  [0.4723284  0.44095585 0.49193624]\n",
            "  [0.49394074 0.4625682  0.51354855]]\n",
            "\n",
            " ...\n",
            "\n",
            " [[0.6451423  0.61769134 0.6451423 ]\n",
            "  [0.65303576 0.6255848  0.65303576]\n",
            "  [0.6627828  0.6353318  0.6627828 ]\n",
            "  ...\n",
            "  [0.53930974 0.48832935 0.5157803 ]\n",
            "  [0.5408874  0.48990703 0.517358  ]\n",
            "  [0.5424651  0.4914847  0.5189356 ]]\n",
            "\n",
            " [[0.6454578  0.6180068  0.6454578 ]\n",
            "  [0.6539824  0.6265314  0.6539824 ]\n",
            "  [0.6634138  0.63596284 0.6634138 ]\n",
            "  ...\n",
            "  [0.5120484  0.46106803 0.488519  ]\n",
            "  [0.5148882  0.46390784 0.49135882]\n",
            "  [0.51772803 0.46674764 0.49419865]]\n",
            "\n",
            " [[0.64577335 0.6183224  0.64577335]\n",
            "  [0.654929   0.627478   0.654929  ]\n",
            "  [0.6640449  0.6365939  0.6640449 ]\n",
            "  ...\n",
            "  [0.50178385 0.4508035  0.47825447]\n",
            "  [0.5005217  0.44954133 0.4769923 ]\n",
            "  [0.4992596  0.4482792  0.47573018]]]\n"
          ]
        }
      ]
    },
    {
      "cell_type": "code",
      "source": [
        "input_shape = (IMAGE_SIZE, IMAGE_SIZE, CHANNELS)\n",
        "n_classes = 3\n",
        "\n",
        "model = models.Sequential([\n",
        "    layers.InputLayer(input_shape=input_shape),\n",
        "    layers.Conv2D(32, kernel_size = (3,3), activation='relu'),\n",
        "    layers.MaxPooling2D((2, 2)),\n",
        "    layers.Conv2D(64,  kernel_size = (3,3), activation='relu'),\n",
        "    layers.MaxPooling2D((2, 2)),\n",
        "    layers.Conv2D(64,  kernel_size = (3,3), activation='relu'),\n",
        "    layers.MaxPooling2D((2, 2)),\n",
        "    layers.Conv2D(64, (3, 3), activation='relu'),\n",
        "    layers.MaxPooling2D((2, 2)),\n",
        "    layers.Conv2D(64, (3, 3), activation='relu'),\n",
        "    layers.MaxPooling2D((2, 2)),\n",
        "    layers.Conv2D(64, (3, 3), activation='relu'),\n",
        "    layers.MaxPooling2D((2, 2)),\n",
        "    layers.Flatten(),\n",
        "    layers.Dense(64, activation='relu'),\n",
        "    layers.Dense(n_classes, activation='softmax'),\n",
        "])"
      ],
      "metadata": {
        "id": "W64VsXlWyC9f"
      },
      "execution_count": 18,
      "outputs": []
    },
    {
      "cell_type": "code",
      "source": [
        "model.summary()"
      ],
      "metadata": {
        "colab": {
          "base_uri": "https://localhost:8080/"
        },
        "id": "Vd984ainyFKj",
        "outputId": "7cda1f55-5e02-4086-b702-8c99f78f0667"
      },
      "execution_count": 19,
      "outputs": [
        {
          "output_type": "stream",
          "name": "stdout",
          "text": [
            "Model: \"sequential\"\n",
            "_________________________________________________________________\n",
            " Layer (type)                Output Shape              Param #   \n",
            "=================================================================\n",
            " conv2d (Conv2D)             (None, 254, 254, 32)      896       \n",
            "                                                                 \n",
            " max_pooling2d (MaxPooling2  (None, 127, 127, 32)      0         \n",
            " D)                                                              \n",
            "                                                                 \n",
            " conv2d_1 (Conv2D)           (None, 125, 125, 64)      18496     \n",
            "                                                                 \n",
            " max_pooling2d_1 (MaxPoolin  (None, 62, 62, 64)        0         \n",
            " g2D)                                                            \n",
            "                                                                 \n",
            " conv2d_2 (Conv2D)           (None, 60, 60, 64)        36928     \n",
            "                                                                 \n",
            " max_pooling2d_2 (MaxPoolin  (None, 30, 30, 64)        0         \n",
            " g2D)                                                            \n",
            "                                                                 \n",
            " conv2d_3 (Conv2D)           (None, 28, 28, 64)        36928     \n",
            "                                                                 \n",
            " max_pooling2d_3 (MaxPoolin  (None, 14, 14, 64)        0         \n",
            " g2D)                                                            \n",
            "                                                                 \n",
            " conv2d_4 (Conv2D)           (None, 12, 12, 64)        36928     \n",
            "                                                                 \n",
            " max_pooling2d_4 (MaxPoolin  (None, 6, 6, 64)          0         \n",
            " g2D)                                                            \n",
            "                                                                 \n",
            " conv2d_5 (Conv2D)           (None, 4, 4, 64)          36928     \n",
            "                                                                 \n",
            " max_pooling2d_5 (MaxPoolin  (None, 2, 2, 64)          0         \n",
            " g2D)                                                            \n",
            "                                                                 \n",
            " flatten (Flatten)           (None, 256)               0         \n",
            "                                                                 \n",
            " dense (Dense)               (None, 64)                16448     \n",
            "                                                                 \n",
            " dense_1 (Dense)             (None, 3)                 195       \n",
            "                                                                 \n",
            "=================================================================\n",
            "Total params: 183747 (717.76 KB)\n",
            "Trainable params: 183747 (717.76 KB)\n",
            "Non-trainable params: 0 (0.00 Byte)\n",
            "_________________________________________________________________\n"
          ]
        }
      ]
    },
    {
      "cell_type": "code",
      "source": [
        "model.compile(\n",
        "    optimizer='adam',\n",
        "    loss=tf.keras.losses.SparseCategoricalCrossentropy(from_logits=False),\n",
        "    metrics=['accuracy']\n",
        ")"
      ],
      "metadata": {
        "id": "spbZOgJbyG7L"
      },
      "execution_count": 20,
      "outputs": []
    }
  ]
}